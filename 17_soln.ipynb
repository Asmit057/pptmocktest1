{
 "cells": [
  {
   "cell_type": "raw",
   "id": "bbfe85ed-b980-4b5d-86f6-834926195b81",
   "metadata": {},
   "source": [
    "17. Write a function that takes a list of numbers as input and returns a new list containing only the even numbers from the input list. Use list comprehension to solve this problem."
   ]
  },
  {
   "cell_type": "code",
   "execution_count": 1,
   "id": "539e1240-5ba5-4a7e-9972-2ce2fa86f2ca",
   "metadata": {},
   "outputs": [],
   "source": [
    "def even_number(x):\n",
    "    return [num for num in x if num % 2 == 0]\n"
   ]
  },
  {
   "cell_type": "code",
   "execution_count": 2,
   "id": "f3f0ae98-061a-454b-912a-646df286fb07",
   "metadata": {},
   "outputs": [
    {
     "name": "stdout",
     "output_type": "stream",
     "text": [
      "[22, 12, 14, 34, 16]\n"
     ]
    }
   ],
   "source": [
    "numbers = [22,31,43,12,14,15,13,34,67,16]\n",
    "even_numbers = even_number(numbers)\n",
    "print(even_numbers)\n"
   ]
  },
  {
   "cell_type": "code",
   "execution_count": null,
   "id": "e95cbbf2-02d5-4fb6-83aa-be13ddea6369",
   "metadata": {},
   "outputs": [],
   "source": []
  }
 ],
 "metadata": {
  "kernelspec": {
   "display_name": "Python 3 (ipykernel)",
   "language": "python",
   "name": "python3"
  },
  "language_info": {
   "codemirror_mode": {
    "name": "ipython",
    "version": 3
   },
   "file_extension": ".py",
   "mimetype": "text/x-python",
   "name": "python",
   "nbconvert_exporter": "python",
   "pygments_lexer": "ipython3",
   "version": "3.10.8"
  }
 },
 "nbformat": 4,
 "nbformat_minor": 5
}
