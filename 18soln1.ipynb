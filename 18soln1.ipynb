{
 "cells": [
  {
   "cell_type": "raw",
   "id": "07f3c4ac-70da-494b-a39d-80be1ca936b0",
   "metadata": {},
   "source": [
    "18. Implement a decorator function called ‘timer’ that measures the execution time of a function. The ‘timer’ decorator should print the time taken by the decorated function to execute. Use the ‘time’ module in Python to calculate the execution time."
   ]
  },
  {
   "cell_type": "code",
   "execution_count": 3,
   "id": "533a2519-bb9f-4d7f-b998-7a1e3049cf73",
   "metadata": {},
   "outputs": [],
   "source": [
    "import time\n",
    "\n",
    "def timer(func):\n",
    "    def wrapper(*args, **kwargs):\n",
    "        start_time = time.time()\n",
    "        result = func(*args, **kwargs)\n",
    "        end_time = time.time()\n",
    "        execution_time = end_time - start_time\n",
    "        print(f\"Execution time: {execution_time:.5f} seconds\")\n",
    "        return result\n",
    "    return wrapper"
   ]
  },
  {
   "cell_type": "code",
   "execution_count": 4,
   "id": "3e138126-9537-408b-97f2-09f799ea6e70",
   "metadata": {},
   "outputs": [
    {
     "name": "stdout",
     "output_type": "stream",
     "text": [
      "Akash is 22 year old\n",
      "Execution time: 2.00083 seconds\n"
     ]
    }
   ],
   "source": [
    "import time\n",
    "\n",
    "@timer\n",
    "def my_function(name,age):\n",
    "    print(f'{name} is {age} year old')\n",
    "    time.sleep(2)\n",
    "\n",
    "my_function('Akash',22)\n"
   ]
  },
  {
   "cell_type": "code",
   "execution_count": null,
   "id": "1bd15a88-6fc6-4690-bbdc-d146ec661c55",
   "metadata": {},
   "outputs": [],
   "source": []
  }
 ],
 "metadata": {
  "kernelspec": {
   "display_name": "Python 3 (ipykernel)",
   "language": "python",
   "name": "python3"
  },
  "language_info": {
   "codemirror_mode": {
    "name": "ipython",
    "version": 3
   },
   "file_extension": ".py",
   "mimetype": "text/x-python",
   "name": "python",
   "nbconvert_exporter": "python",
   "pygments_lexer": "ipython3",
   "version": "3.10.8"
  }
 },
 "nbformat": 4,
 "nbformat_minor": 5
}
